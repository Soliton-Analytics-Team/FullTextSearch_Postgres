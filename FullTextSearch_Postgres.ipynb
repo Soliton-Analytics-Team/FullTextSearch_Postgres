{
  "cells": [
    {
      "cell_type": "markdown",
      "metadata": {
        "id": "1K0_sJIHCjL6"
      },
      "source": [
        "# Colabで全文検索（その２：PostgreSQL編）\n",
        "\n",
        "各種全文検索ツールをColabで動かしてみるシリーズです。全7回の予定です。今回はPostgreSQLです。\n",
        "\n",
        "処理時間の計測はストレージのキャッシュとの兼ね合いがあるので、2回測ります。2回目は全てがメモリに載った状態での性能評価になります。ただ1回目もデータを投入した直後なので、メモリに載ってしまっている可能性があります。"
      ]
    },
    {
      "cell_type": "markdown",
      "metadata": {
        "id": "rr8_1pqmMHal"
      },
      "source": [
        "## 準備\n",
        "\n",
        "まずは検索対象のテキストを日本語wikiから取得して、Google Driveに保存します。（※ Google Driveに約１GBの空き容量が必要です。以前のデータが残っている場合は取得せず再利用します。）"
      ]
    },
    {
      "cell_type": "markdown",
      "metadata": {
        "id": "SfwapuEEMHal"
      },
      "source": [
        "Google Driveのマウント"
      ]
    },
    {
      "cell_type": "code",
      "execution_count": 1,
      "metadata": {
        "colab": {
          "base_uri": "https://localhost:8080/"
        },
        "id": "uB4D_a2JMHal",
        "outputId": "0aef0966-b79d-46df-f29a-7dffe5d66c53"
      },
      "outputs": [
        {
          "name": "stdout",
          "output_type": "stream",
          "text": [
            "Mounted at /content/drive\n"
          ]
        }
      ],
      "source": [
        "from google.colab import drive\n",
        "drive.mount('/content/drive')"
      ]
    },
    {
      "cell_type": "markdown",
      "metadata": {
        "id": "noPtYp0ZMHam"
      },
      "source": [
        "jawikiの取得とjson形式に変換。90分ほど時間がかかります。他の全文検索シリーズでも同じデータを使うので、他の記事も試す場合は wiki.json.bz2 を捨てずに残しておくことをおすすめします。"
      ]
    },
    {
      "cell_type": "code",
      "execution_count": 2,
      "metadata": {
        "colab": {
          "base_uri": "https://localhost:8080/"
        },
        "id": "5AbKu4okMHam",
        "outputId": "0ec1b5c0-5ae5-4da5-9163-87d6c13a8b4f"
      },
      "outputs": [
        {
          "name": "stdout",
          "output_type": "stream",
          "text": [
            "/content\n",
            "CPU times: user 1.58 ms, sys: 75 µs, total: 1.65 ms\n",
            "Wall time: 9.63 ms\n"
          ]
        }
      ],
      "source": [
        "%%time\n",
        "%cd /content/\n",
        "import os\n",
        "if not os.path.exists('/content/drive/MyDrive/wiki.json.bz2'):\n",
        "    !wget https://dumps.wikimedia.org/jawiki/latest/jawiki-latest-pages-articles.xml.bz2\n",
        "    !pip install wikiextractor\n",
        "    !python -m wikiextractor.WikiExtractor --no-templates --processes 4 --json -b 10G -o - jawiki-latest-pages-articles.xml.bz2 | bzip2 -c > /content/drive/MyDrive/wiki.json.bz2"
      ]
    },
    {
      "cell_type": "markdown",
      "metadata": {
        "id": "n2mhXmY6MHam"
      },
      "source": [
        "json形式に変換されたデータを確認"
      ]
    },
    {
      "cell_type": "code",
      "execution_count": 3,
      "metadata": {
        "colab": {
          "base_uri": "https://localhost:8080/"
        },
        "id": "do5SBCPJMHam",
        "outputId": "abd61db5-0253-43ad-8572-8399770c5722"
      },
      "outputs": [
        {
          "name": "stdout",
          "output_type": "stream",
          "text": [
            "アンパサンド\tアンパサンド（&amp;, ）は、並立助詞「…と…」を意味する記号である。ラテン\n",
            "言語\t言語（げんご）は、広辞苑や大辞泉には次のように解説されている。『日本大百科事典』\n",
            "日本語\t 日本語（にほんご、にっぽんご）は、日本国内や、かつての日本領だった国、そして日\n",
            "地理学\t地理学（ちりがく、、、伊：geografia、）は、。地域や空間、場所、自然環境\n",
            "EU (曖昧さ回避)\tEU\n",
            "国の一覧\t国の一覧（くにのいちらん）は、世界の独立国の一覧。対象.国際法上国家と言えるか否\n"
          ]
        }
      ],
      "source": [
        "import json\n",
        "import bz2\n",
        "\n",
        "with bz2.open('/content/drive/MyDrive/wiki.json.bz2', 'rt', encoding='utf-8') as fin:\n",
        "    for n, line in enumerate(fin):\n",
        "        data = json.loads(line)\n",
        "        print(data['title'].strip(), data['text'].replace('\\n', '')[:40], sep='\\t')\n",
        "        if n == 5:\n",
        "            break"
      ]
    },
    {
      "cell_type": "markdown",
      "metadata": {
        "id": "GQ53mxqQFWNP"
      },
      "source": [
        "## PostgreSQLのインストール\n",
        "\n",
        "pg_bigmをビルドするのにPostgreSQLのソースコードが必要なようなので、ソースコードからインストールします。"
      ]
    },
    {
      "cell_type": "code",
      "execution_count": null,
      "metadata": {
        "id": "28b04YaMhbY2"
      },
      "outputs": [],
      "source": [
        "%cd /content\n",
        "!wget https://ftp.postgresql.org/pub/source/v14.1/postgresql-14.1.tar.gz\n",
        "!tar xzf postgresql-14.1.tar.gz\n",
        "%cd /content/postgresql-14.1/\n",
        "!./configure\n",
        "!make install"
      ]
    },
    {
      "cell_type": "markdown",
      "metadata": {
        "id": "_EGfXFUbXXom"
      },
      "source": [
        "全文検索用のモジュールpg_bigmをインストールします。"
      ]
    },
    {
      "cell_type": "code",
      "execution_count": 5,
      "metadata": {
        "colab": {
          "base_uri": "https://localhost:8080/"
        },
        "id": "dJPGI5UfhjGF",
        "outputId": "a74f8ce3-915d-4306-b0b9-9a38542c1f93"
      },
      "outputs": [
        {
          "name": "stdout",
          "output_type": "stream",
          "text": [
            "/content\n",
            "--2022-03-26 08:55:48--  https://ja.osdn.net/projects/pgbigm/downloads/72448/pg_bigm-1.2-20200228.tar.gz\n",
            "Resolving ja.osdn.net (ja.osdn.net)... 44.240.119.141, 35.167.170.34\n",
            "Connecting to ja.osdn.net (ja.osdn.net)|44.240.119.141|:443... connected.\n",
            "HTTP request sent, awaiting response... 302 Found\n",
            "Location: https://ja.osdn.net/frs/redir.php?m=nchc&f=pgbigm%2F72448%2Fpg_bigm-1.2-20200228.tar.gz [following]\n",
            "--2022-03-26 08:55:49--  https://ja.osdn.net/frs/redir.php?m=nchc&f=pgbigm%2F72448%2Fpg_bigm-1.2-20200228.tar.gz\n",
            "Reusing existing connection to ja.osdn.net:443.\n",
            "HTTP request sent, awaiting response... 302 Found\n",
            "Location: https://free.nchc.org.tw/osdn//pgbigm/72448/pg_bigm-1.2-20200228.tar.gz [following]\n",
            "--2022-03-26 08:55:49--  https://free.nchc.org.tw/osdn//pgbigm/72448/pg_bigm-1.2-20200228.tar.gz\n",
            "Resolving free.nchc.org.tw (free.nchc.org.tw)... 140.110.240.80, 2001:e10:2000:240:e643:4bff:fee8:a63c\n",
            "Connecting to free.nchc.org.tw (free.nchc.org.tw)|140.110.240.80|:443... connected.\n",
            "HTTP request sent, awaiting response... 200 OK\n",
            "Length: 40420 (39K) [application/x-gzip]\n",
            "Saving to: ‘pg_bigm-1.2-20200228.tar.gz’\n",
            "\n",
            "pg_bigm-1.2-2020022 100%[===================>]  39.47K   229KB/s    in 0.2s    \n",
            "\n",
            "2022-03-26 08:55:50 (229 KB/s) - ‘pg_bigm-1.2-20200228.tar.gz’ saved [40420/40420]\n",
            "\n",
            "/content/pg_bigm-1.2-20200228\n",
            "gcc -Wall -Wmissing-prototypes -Wpointer-arith -Wdeclaration-after-statement -Werror=vla -Wendif-labels -Wmissing-format-attribute -Wimplicit-fallthrough=3 -Wformat-security -fno-strict-aliasing -fwrapv -fexcess-precision=standard -Wno-format-truncation -O2 -fPIC -I. -I./ -I/usr/local/pgsql/include/server -I/usr/local/pgsql/include/internal  -D_GNU_SOURCE   -c -o bigm_op.o bigm_op.c\n",
            "gcc -Wall -Wmissing-prototypes -Wpointer-arith -Wdeclaration-after-statement -Werror=vla -Wendif-labels -Wmissing-format-attribute -Wimplicit-fallthrough=3 -Wformat-security -fno-strict-aliasing -fwrapv -fexcess-precision=standard -Wno-format-truncation -O2 -fPIC -I. -I./ -I/usr/local/pgsql/include/server -I/usr/local/pgsql/include/internal  -D_GNU_SOURCE   -c -o bigm_gin.o bigm_gin.c\n",
            "gcc -Wall -Wmissing-prototypes -Wpointer-arith -Wdeclaration-after-statement -Werror=vla -Wendif-labels -Wmissing-format-attribute -Wimplicit-fallthrough=3 -Wformat-security -fno-strict-aliasing -fwrapv -fexcess-precision=standard -Wno-format-truncation -O2 -fPIC -shared -o pg_bigm.so bigm_op.o bigm_gin.o -L/usr/local/pgsql/lib    -Wl,--as-needed -Wl,-rpath,'/usr/local/pgsql/lib',--enable-new-dtags  \n",
            "/bin/mkdir -p '/usr/local/pgsql/lib'\n",
            "/bin/mkdir -p '/usr/local/pgsql/share/extension'\n",
            "/bin/mkdir -p '/usr/local/pgsql/share/extension'\n",
            "/usr/bin/install -c -m 755  pg_bigm.so '/usr/local/pgsql/lib/pg_bigm.so'\n",
            "/usr/bin/install -c -m 644 .//pg_bigm.control '/usr/local/pgsql/share/extension/'\n",
            "/usr/bin/install -c -m 644 .//pg_bigm--1.2.sql .//pg_bigm--1.1--1.2.sql .//pg_bigm--1.0--1.1.sql  '/usr/local/pgsql/share/extension/'\n"
          ]
        }
      ],
      "source": [
        "%cd /content\n",
        "!wget https://ja.osdn.net/projects/pgbigm/downloads/72448/pg_bigm-1.2-20200228.tar.gz\n",
        "!tar xzf pg_bigm-1.2-20200228.tar.gz\n",
        "%cd /content/pg_bigm-1.2-20200228\n",
        "!make USE_PGXS=1 PG_CONFIG=/usr/local/pgsql/bin/pg_config install"
      ]
    },
    {
      "cell_type": "markdown",
      "metadata": {
        "id": "qVY52zRaGNtO"
      },
      "source": [
        "## PostgreSQLの立ち上げ"
      ]
    },
    {
      "cell_type": "markdown",
      "metadata": {
        "id": "p9lRvtNKXtPv"
      },
      "source": [
        "PostgreSQLを実行するユーザーを作成します。"
      ]
    },
    {
      "cell_type": "code",
      "execution_count": 6,
      "metadata": {
        "colab": {
          "base_uri": "https://localhost:8080/"
        },
        "id": "t6ZCHMHWRswj",
        "outputId": "10205d32-8cc7-49d2-e4d6-c99c717514bf"
      },
      "outputs": [
        {
          "name": "stdout",
          "output_type": "stream",
          "text": [
            "Adding user `postgres' ...\n",
            "Adding new group `postgres' (1000) ...\n",
            "Adding new user `postgres' (1000) with group `postgres' ...\n",
            "Creating home directory `/home/postgres' ...\n",
            "Copying files from `/etc/skel' ...\n",
            "Changing the user information for postgres\n",
            "Enter the new value, or press ENTER for the default\n",
            "\tFull Name []: \tRoom Number []: \tWork Phone []: \tHome Phone []: \tOther []: Is the information correct? [Y/n] "
          ]
        }
      ],
      "source": [
        "!yes | adduser --disabled-password postgres"
      ]
    },
    {
      "cell_type": "markdown",
      "metadata": {
        "id": "QJjhbVpuXz1l"
      },
      "source": [
        "DBを構築する場所を初期化します。"
      ]
    },
    {
      "cell_type": "code",
      "execution_count": 7,
      "metadata": {
        "colab": {
          "base_uri": "https://localhost:8080/"
        },
        "id": "YmCb7m1UO-cj",
        "outputId": "a9a1b8f2-9662-40f3-9838-efd5c931d435"
      },
      "outputs": [
        {
          "name": "stdout",
          "output_type": "stream",
          "text": [
            "The files belonging to this database system will be owned by user \"postgres\".\n",
            "This user must also own the server process.\n",
            "\n",
            "The database cluster will be initialized with locale \"en_US.UTF-8\".\n",
            "The default text search configuration will be set to \"english\".\n",
            "\n",
            "Data page checksums are disabled.\n",
            "\n",
            "creating directory /tmp/postgres ... ok\n",
            "creating subdirectories ... ok\n",
            "selecting dynamic shared memory implementation ... posix\n",
            "selecting default max_connections ... 100\n",
            "selecting default shared_buffers ... 128MB\n",
            "selecting default time zone ... Etc/UTC\n",
            "creating configuration files ... ok\n",
            "running bootstrap script ... ok\n",
            "performing post-bootstrap initialization ... ok\n",
            "syncing data to disk ... ok\n",
            "\n",
            "initdb: warning: enabling \"trust\" authentication for local connections\n",
            "You can change this by editing pg_hba.conf or using the option -A, or\n",
            "--auth-local and --auth-host, the next time you run initdb.\n",
            "\n",
            "Success. You can now start the database server using:\n",
            "\n",
            "    /usr/local/pgsql/bin/pg_ctl -D /tmp/postgres -l logfile start\n",
            "\n"
          ]
        }
      ],
      "source": [
        "!sudo -u postgres /usr/local/pgsql/bin/initdb -D /tmp/postgres --encoding=UTF8"
      ]
    },
    {
      "cell_type": "markdown",
      "metadata": {
        "id": "XBCINkYTX_J7"
      },
      "source": [
        "pg_bigmをロードするための設定を書き込みます。"
      ]
    },
    {
      "cell_type": "code",
      "execution_count": 8,
      "metadata": {
        "id": "hgtS1QznLfuM"
      },
      "outputs": [],
      "source": [
        "!echo shared_preload_libraries = 'pg_bigm' >> /tmp/postgres/postgresql.conf"
      ]
    },
    {
      "cell_type": "markdown",
      "metadata": {
        "id": "TvnJHyvqYIGx"
      },
      "source": [
        "PostgreSQLをバックグラウンドで走らせます。"
      ]
    },
    {
      "cell_type": "code",
      "execution_count": 33,
      "metadata": {
        "colab": {
          "base_uri": "https://localhost:8080/"
        },
        "id": "sRVO007ujHxG",
        "outputId": "9a6f1501-b8a1-4e69-f729-5eff58e4b29a"
      },
      "outputs": [
        {
          "name": "stdout",
          "output_type": "stream",
          "text": [
            "Starting job # 2 in a separate thread.\n"
          ]
        }
      ],
      "source": [
        "%%bash --bg\n",
        "sudo -u postgres /usr/local/pgsql/bin/pg_ctl -D /tmp/postgres start"
      ]
    },
    {
      "cell_type": "markdown",
      "metadata": {
        "id": "ZCX_s5s4YSds"
      },
      "source": [
        "5秒間、起動を待ちます。"
      ]
    },
    {
      "cell_type": "code",
      "execution_count": 10,
      "metadata": {
        "id": "KaqVqBG7SHRM"
      },
      "outputs": [],
      "source": [
        "import time\n",
        "time.sleep(5)"
      ]
    },
    {
      "cell_type": "markdown",
      "metadata": {
        "id": "Qm_Y3QaTYZX1"
      },
      "source": [
        "ユーサーを確認します。"
      ]
    },
    {
      "cell_type": "code",
      "execution_count": 11,
      "metadata": {
        "colab": {
          "base_uri": "https://localhost:8080/"
        },
        "id": "fCFpy9GxSJyI",
        "outputId": "9a454c71-5184-4830-95f1-c7875f0ba5a1"
      },
      "outputs": [
        {
          "name": "stdout",
          "output_type": "stream",
          "text": [
            "                                   List of roles\n",
            " Role name |                         Attributes                         | Member of \n",
            "-----------+------------------------------------------------------------+-----------\n",
            " postgres  | Superuser, Create role, Create DB, Replication, Bypass RLS | {}\n",
            "\n"
          ]
        }
      ],
      "source": [
        "!echo \"\\\\du\" | sudo -u postgres /usr/local/pgsql/bin/psql"
      ]
    },
    {
      "cell_type": "markdown",
      "metadata": {
        "id": "BqgpKSMAYjRl"
      },
      "source": [
        "プロセスを確認します。"
      ]
    },
    {
      "cell_type": "code",
      "execution_count": 12,
      "metadata": {
        "colab": {
          "base_uri": "https://localhost:8080/"
        },
        "id": "wOhLZcnSSVff",
        "outputId": "557269bc-3f07-49e2-9aac-0873848f26bf"
      },
      "outputs": [
        {
          "name": "stdout",
          "output_type": "stream",
          "text": [
            "postgres    9778  0.2  0.1 174156 17936 ?        Ss   08:55   0:00 /usr/local/pgsql/bin/postgres -D /tmp/postgres\n",
            "postgres    9780  0.0  0.0 174156  2576 ?        Ss   08:55   0:00 postgres: checkpointer \n",
            "postgres    9781  0.0  0.0 174156  2576 ?        Ss   08:55   0:00 postgres: background writer \n",
            "postgres    9782  0.0  0.0 174156  2576 ?        Ss   08:55   0:00 postgres: walwriter \n",
            "postgres    9783  0.0  0.0 174724  5444 ?        Ss   08:55   0:00 postgres: autovacuum launcher \n",
            "postgres    9784  0.0  0.0  28796  2072 ?        Ss   08:55   0:00 postgres: stats collector \n",
            "postgres    9785  0.0  0.0 174588  3404 ?        Ss   08:55   0:00 postgres: logical replication launcher \n"
          ]
        }
      ],
      "source": [
        "!ps aux | grep postgres | grep -v grep"
      ]
    },
    {
      "cell_type": "markdown",
      "metadata": {
        "id": "e3U353jCG9z-"
      },
      "source": [
        "## DB作成"
      ]
    },
    {
      "cell_type": "code",
      "execution_count": 13,
      "metadata": {
        "colab": {
          "base_uri": "https://localhost:8080/"
        },
        "id": "24FiGCQpbrZ7",
        "outputId": "f74d4761-4ae1-4b38-91bd-a04ea28dc0c1"
      },
      "outputs": [
        {
          "name": "stdout",
          "output_type": "stream",
          "text": [
            "CREATE DATABASE\n"
          ]
        }
      ],
      "source": [
        "!echo \"create database db\" | sudo -u postgres /usr/local/pgsql/bin/psql"
      ]
    },
    {
      "cell_type": "code",
      "execution_count": 14,
      "metadata": {
        "colab": {
          "base_uri": "https://localhost:8080/"
        },
        "id": "GtnVNXjBSzFf",
        "outputId": "2ae14d6f-a7b1-4674-f513-5c97494bd040"
      },
      "outputs": [
        {
          "name": "stdout",
          "output_type": "stream",
          "text": [
            "CREATE EXTENSION\n"
          ]
        }
      ],
      "source": [
        "!echo \"CREATE EXTENSION pg_bigm\" | sudo -u postgres /usr/local/pgsql/bin/psql db"
      ]
    },
    {
      "cell_type": "code",
      "execution_count": 15,
      "metadata": {
        "colab": {
          "base_uri": "https://localhost:8080/"
        },
        "id": "QyESW1GXS2ze",
        "outputId": "48aa3d62-a8ce-4c30-da96-bc8db3e50c19"
      },
      "outputs": [
        {
          "name": "stdout",
          "output_type": "stream",
          "text": [
            "                                   List of installed extensions\n",
            "  Name   | Version |   Schema   |                           Description                            \n",
            "---------+---------+------------+------------------------------------------------------------------\n",
            " pg_bigm | 1.2     | public     | text similarity measurement and index searching based on bigrams\n",
            " plpgsql | 1.0     | pg_catalog | PL/pgSQL procedural language\n",
            "(2 rows)\n",
            "\n"
          ]
        }
      ],
      "source": [
        "!echo \"\\\\dx\" | sudo -u postgres /usr/local/pgsql/bin/psql db"
      ]
    },
    {
      "cell_type": "markdown",
      "metadata": {
        "id": "55AM6XT7HDr9"
      },
      "source": [
        "## Pythonクライアントのインストール"
      ]
    },
    {
      "cell_type": "code",
      "execution_count": 16,
      "metadata": {
        "colab": {
          "base_uri": "https://localhost:8080/"
        },
        "id": "wWBpoxVmjRTC",
        "outputId": "4af4ff84-561a-4309-b8a5-3943c2d8097c"
      },
      "outputs": [
        {
          "name": "stdout",
          "output_type": "stream",
          "text": [
            "Requirement already satisfied: psycopg2 in /usr/local/lib/python3.7/dist-packages (2.7.6.1)\n"
          ]
        }
      ],
      "source": [
        "!pip install psycopg2"
      ]
    },
    {
      "cell_type": "markdown",
      "metadata": {
        "id": "oZzcOXj4HIOj"
      },
      "source": [
        " ## データのインポート\n",
        "\n",
        "テーブルを作成して、データを50万件登録します。10分ほど時間がかかります。"
      ]
    },
    {
      "cell_type": "code",
      "execution_count": 17,
      "metadata": {
        "colab": {
          "base_uri": "https://localhost:8080/",
          "height": 106,
          "referenced_widgets": [
            "903eecdd177f4e7fa85375f12a39ecf4",
            "e0d595b2ed884fcc879d66a32ed3a32f",
            "74473621e4b54212b84247b6bce14895",
            "7482b442f0fe4d669ed7517f8c74978c",
            "5c76c15c34634d2faca9cee9410a1a72",
            "4786e3e3e7214a9fbf7c96c70a9c9e5a",
            "498fe644d3fb4bce9f27f283ea6bfa85",
            "cd77118575e14fe7ae354bb373fdfbfb",
            "09c7f34e1d124c438705ee1be84e2f65",
            "1823fa8acb6b4184829f23c91a566eb7",
            "bf2bd33fd13e4935a88f5e62f63566cb"
          ]
        },
        "id": "irdCqoI0cD95",
        "outputId": "e0172b88-5a50-4b30-9fb8-f530c70ae4eb"
      },
      "outputs": [
        {
          "name": "stderr",
          "output_type": "stream",
          "text": [
            "/usr/local/lib/python3.7/dist-packages/psycopg2/__init__.py:144: UserWarning: The psycopg2 wheel package will be renamed from release 2.8; in order to keep installing from binary please use \"pip install psycopg2-binary\" instead. For details see: <http://initd.org/psycopg/docs/install.html#binary-install-from-pypi>.\n",
            "  \"\"\")\n"
          ]
        },
        {
          "data": {
            "application/vnd.jupyter.widget-view+json": {
              "model_id": "903eecdd177f4e7fa85375f12a39ecf4",
              "version_major": 2,
              "version_minor": 0
            },
            "text/plain": [
              "  0%|          | 0/750000.0 [00:00<?, ?it/s]"
            ]
          },
          "metadata": {},
          "output_type": "display_data"
        }
      ],
      "source": [
        "import psycopg2\n",
        "import json\n",
        "import bz2\n",
        "from tqdm.notebook import tqdm\n",
        "\n",
        "db = psycopg2.connect(database=\"db\", user=\"postgres\", host=\"/tmp/\")\n",
        "cursor = db.cursor()\n",
        "\n",
        "cursor.execute('drop table if exists wiki_jp')\n",
        "cursor.execute('create table wiki_jp(title text, body text)')\n",
        "\n",
        "limit = 500000\n",
        "insert_wiki = 'insert into wiki_jp (title, body) values (%s, %s);'\n",
        "\n",
        "with bz2.open('/content/drive/MyDrive/wiki.json.bz2', 'rt', encoding='utf-8') as fin:\n",
        "    n = 0\n",
        "    for line in tqdm(fin, total=limit*1.5):\n",
        "        data = json.loads(line)\n",
        "        title = data['title'].strip()\n",
        "        body = data['text'].replace('\\n', '')\n",
        "        if len(title) > 0 and len(body) > 0:\n",
        "            cursor.execute(insert_wiki, (title, body))\n",
        "            n += 1\n",
        "        if n == limit:\n",
        "            break\n",
        "db.commit()\n",
        "db.close()"
      ]
    },
    {
      "cell_type": "markdown",
      "metadata": {
        "id": "Ycuf9PjwJskZ"
      },
      "source": [
        "登録件数を確認します。"
      ]
    },
    {
      "cell_type": "code",
      "execution_count": 18,
      "metadata": {
        "colab": {
          "base_uri": "https://localhost:8080/"
        },
        "id": "2czdK07q1tex",
        "outputId": "6a354452-bc2b-454d-af70-46b666d1df6a"
      },
      "outputs": [
        {
          "name": "stdout",
          "output_type": "stream",
          "text": [
            " count  \n",
            "--------\n",
            " 500000\n",
            "(1 row)\n",
            "\n"
          ]
        }
      ],
      "source": [
        "!echo \"select count(*) from wiki_jp;\" | sudo -u postgres /usr/local/pgsql/bin/psql db"
      ]
    },
    {
      "cell_type": "markdown",
      "metadata": {
        "id": "A_BknkylHgCU"
      },
      "source": [
        "## インデックスを使わない検索\n",
        "\n",
        "like検索でシーケンシャルに検索した場合を測定します。"
      ]
    },
    {
      "cell_type": "markdown",
      "metadata": {
        "id": "QDLJFdDl5BFj"
      },
      "source": [
        "検索プランを表示します。インデックスを使っていないことが確認できます。"
      ]
    },
    {
      "cell_type": "code",
      "execution_count": 19,
      "metadata": {
        "colab": {
          "base_uri": "https://localhost:8080/"
        },
        "id": "IoI0DqzXGFBp",
        "outputId": "38a03544-f216-4bf4-ab25-e6e02044a440"
      },
      "outputs": [
        {
          "name": "stdout",
          "output_type": "stream",
          "text": [
            "SET\n",
            "                                 QUERY PLAN                                  \n",
            "-----------------------------------------------------------------------------\n",
            " Gather  (cost=1000.00..69084.02 rows=411 width=64)\n",
            "   Workers Planned: 2\n",
            "   ->  Parallel Seq Scan on wiki_jp  (cost=0.00..68042.92 rows=171 width=64)\n",
            "         Filter: (body ~~ '%日本語%'::text)\n",
            "(4 rows)\n",
            "\n"
          ]
        }
      ],
      "source": [
        "!echo \"set enable_bitmapscan=off; explain select * from wiki_jp where body like '%日本語%';\" | sudo -u postgres /usr/local/pgsql/bin/psql db"
      ]
    },
    {
      "cell_type": "markdown",
      "metadata": {
        "id": "hopmskgx4CBL"
      },
      "source": [
        "\\timingを設定すると、出力の最後に処理時間が出力されます。"
      ]
    },
    {
      "cell_type": "code",
      "execution_count": 20,
      "metadata": {
        "colab": {
          "base_uri": "https://localhost:8080/"
        },
        "id": "MNrr-2hQvYf-",
        "outputId": "19cc5879-b894-4fe1-f5b8-e6a79329d086"
      },
      "outputs": [
        {
          "name": "stdout",
          "output_type": "stream",
          "text": [
            "Writing command.txt\n"
          ]
        }
      ],
      "source": [
        "%%writefile command.txt\n",
        "set enable_bitmapscan=off;\n",
        "\\timing\n",
        "select * from wiki_jp where body like '%日本語%';"
      ]
    },
    {
      "cell_type": "markdown",
      "metadata": {
        "id": "oj7LYVFR4Or_"
      },
      "source": [
        "出力される件数と処理時間の部分だけをtailコマンドで切り出しています。"
      ]
    },
    {
      "cell_type": "code",
      "execution_count": 21,
      "metadata": {
        "colab": {
          "base_uri": "https://localhost:8080/"
        },
        "id": "JhQYLl-pT5cI",
        "outputId": "09d450c8-ad31-4e9a-d7be-97c8bcc87dc9"
      },
      "outputs": [
        {
          "name": "stdout",
          "output_type": "stream",
          "text": [
            "(17006 rows)\n",
            "\n",
            "Time: 10038.010 ms (00:10.038)\n",
            "CPU times: user 154 ms, sys: 27.4 ms, total: 182 ms\n",
            "Wall time: 17.8 s\n"
          ]
        }
      ],
      "source": [
        "%%time\n",
        "!sudo -u postgres /usr/local/pgsql/bin/psql db < command.txt | tail -3"
      ]
    },
    {
      "cell_type": "markdown",
      "metadata": {
        "id": "YNrdh6zK4z3V"
      },
      "source": [
        "2回目"
      ]
    },
    {
      "cell_type": "code",
      "execution_count": 22,
      "metadata": {
        "colab": {
          "base_uri": "https://localhost:8080/"
        },
        "id": "pUvXLfSfczDZ",
        "outputId": "312c5ef9-6474-4b6b-a993-95ba1bb41fb7"
      },
      "outputs": [
        {
          "name": "stdout",
          "output_type": "stream",
          "text": [
            "(17006 rows)\n",
            "\n",
            "Time: 6964.317 ms (00:06.964)\n",
            "CPU times: user 131 ms, sys: 13.7 ms, total: 145 ms\n",
            "Wall time: 14.3 s\n"
          ]
        }
      ],
      "source": [
        "%%time\n",
        "!sudo -u postgres /usr/local/pgsql/bin/psql db < command.txt | tail -3"
      ]
    },
    {
      "cell_type": "markdown",
      "metadata": {
        "id": "1KwME6GBUkhr"
      },
      "source": [
        "内部での処理時間と%%timeによるセルの実行時間に乖離があります。内部の処理時間は検索のみの時間かもしれません。"
      ]
    },
    {
      "cell_type": "markdown",
      "metadata": {
        "id": "k6l-0-pGcUTk"
      },
      "source": [
        "参考にtitleのみを抽出するクエリを測定します。"
      ]
    },
    {
      "cell_type": "code",
      "execution_count": 34,
      "metadata": {
        "colab": {
          "base_uri": "https://localhost:8080/"
        },
        "id": "AaPgO3GzLdHA",
        "outputId": "7dc6631e-4ece-40c4-ac24-d5452fccebe2"
      },
      "outputs": [
        {
          "name": "stdout",
          "output_type": "stream",
          "text": [
            "Overwriting command2.txt\n"
          ]
        }
      ],
      "source": [
        "%%writefile command2.txt\n",
        "set enable_bitmapscan=off;\n",
        "\\timing\n",
        "select title from wiki_jp where body like '%日本語%';"
      ]
    },
    {
      "cell_type": "code",
      "execution_count": 35,
      "metadata": {
        "colab": {
          "base_uri": "https://localhost:8080/"
        },
        "id": "stmnyC8WLgch",
        "outputId": "078e2433-3041-410b-8872-14276b89101b"
      },
      "outputs": [
        {
          "name": "stdout",
          "output_type": "stream",
          "text": [
            "(17006 rows)\n",
            "\n",
            "Time: 6340.743 ms (00:06.341)\n",
            "CPU times: user 57.4 ms, sys: 16.1 ms, total: 73.6 ms\n",
            "Wall time: 6.45 s\n"
          ]
        }
      ],
      "source": [
        "%%time\n",
        "!sudo -u postgres /usr/local/pgsql/bin/psql db < command2.txt | tail -3"
      ]
    },
    {
      "cell_type": "markdown",
      "metadata": {
        "id": "Q9UPBzy_f2eY"
      },
      "source": [
        "内部の検索時間は変わりません。全体の処理時間が短くなったのは、転送する結果の量の違いによるものでしょう。"
      ]
    },
    {
      "cell_type": "markdown",
      "metadata": {
        "id": "BJbvluZHHl5R"
      },
      "source": [
        "## 全文検索用インデックスの作成"
      ]
    },
    {
      "cell_type": "markdown",
      "metadata": {
        "id": "K0pm-oefLPES"
      },
      "source": [
        "インデックスの作成には15分ほどかかります。"
      ]
    },
    {
      "cell_type": "code",
      "execution_count": 25,
      "metadata": {
        "colab": {
          "base_uri": "https://localhost:8080/"
        },
        "id": "peb32ohOCHoE",
        "outputId": "a4ed7698-8871-4578-85e9-77f2dae185a9"
      },
      "outputs": [
        {
          "name": "stdout",
          "output_type": "stream",
          "text": [
            "CREATE INDEX\n",
            "CPU times: user 7.24 s, sys: 946 ms, total: 8.18 s\n",
            "Wall time: 14min 40s\n"
          ]
        }
      ],
      "source": [
        "%%time\n",
        "!echo \"CREATE INDEX wiki_jp_idx ON wiki_jp USING gin (body gin_bigm_ops);\" | sudo -u postgres /usr/local/pgsql/bin/psql db"
      ]
    },
    {
      "cell_type": "markdown",
      "metadata": {
        "id": "pTaLmCjpHtcB"
      },
      "source": [
        "## インデックスを使った検索"
      ]
    },
    {
      "cell_type": "markdown",
      "metadata": {
        "id": "Dn117B-g5TmT"
      },
      "source": [
        "検索プランを表示します。インデックスを使っていることが確認できます。"
      ]
    },
    {
      "cell_type": "code",
      "execution_count": 26,
      "metadata": {
        "colab": {
          "base_uri": "https://localhost:8080/"
        },
        "id": "DtNENB5GG0k7",
        "outputId": "52f8ed24-5912-4172-e50e-cd2053bc7d50"
      },
      "outputs": [
        {
          "name": "stdout",
          "output_type": "stream",
          "text": [
            "SET\n",
            "                                 QUERY PLAN                                 \n",
            "----------------------------------------------------------------------------\n",
            " Bitmap Heap Scan on wiki_jp  (cost=44.39..240.10 rows=50 width=64)\n",
            "   Recheck Cond: (body ~~ '%日本語%'::text)\n",
            "   ->  Bitmap Index Scan on wiki_jp_idx  (cost=0.00..44.38 rows=50 width=0)\n",
            "         Index Cond: (body ~~ '%日本語%'::text)\n",
            "(4 rows)\n",
            "\n"
          ]
        }
      ],
      "source": [
        "!echo \"set enable_bitmapscan=on; explain select * from wiki_jp where body like '%日本語%';\" | sudo -u postgres /usr/local/pgsql/bin/psql db"
      ]
    },
    {
      "cell_type": "markdown",
      "metadata": {
        "id": "uTrTPxVL5hmg"
      },
      "source": [
        "インデックスを有効にした検索コマンドを作成します。"
      ]
    },
    {
      "cell_type": "code",
      "execution_count": 27,
      "metadata": {
        "colab": {
          "base_uri": "https://localhost:8080/"
        },
        "id": "_zBzLNgo56lO",
        "outputId": "91e69819-2392-47a9-fcca-2c0da4606738"
      },
      "outputs": [
        {
          "name": "stdout",
          "output_type": "stream",
          "text": [
            "Overwriting command.txt\n"
          ]
        }
      ],
      "source": [
        "%%writefile command.txt\n",
        "set enable_bitmapscan=on;\n",
        "\\timing\n",
        "select * from wiki_jp where body like '%日本語%';"
      ]
    },
    {
      "cell_type": "markdown",
      "metadata": {
        "id": "PNTjR6wE5cuD"
      },
      "source": [
        "1回目"
      ]
    },
    {
      "cell_type": "code",
      "execution_count": 28,
      "metadata": {
        "colab": {
          "base_uri": "https://localhost:8080/"
        },
        "id": "AImnpER2VUMr",
        "outputId": "573504a3-b448-445e-8273-a0a096bc56df"
      },
      "outputs": [
        {
          "name": "stdout",
          "output_type": "stream",
          "text": [
            "(17006 rows)\n",
            "\n",
            "Time: 1958.167 ms (00:01.958)\n",
            "CPU times: user 83 ms, sys: 18.8 ms, total: 102 ms\n",
            "Wall time: 9.26 s\n"
          ]
        }
      ],
      "source": [
        "%%time\n",
        "!sudo -u postgres /usr/local/pgsql/bin/psql db < command.txt | tail -3"
      ]
    },
    {
      "cell_type": "markdown",
      "metadata": {
        "id": "WLM7yBzW5bOO"
      },
      "source": [
        "2回目"
      ]
    },
    {
      "cell_type": "code",
      "execution_count": 29,
      "metadata": {
        "colab": {
          "base_uri": "https://localhost:8080/"
        },
        "id": "WoNEar-Rc3Pl",
        "outputId": "7b07dcf9-dd84-48b0-dcb3-5b4c9ad1bb06"
      },
      "outputs": [
        {
          "name": "stdout",
          "output_type": "stream",
          "text": [
            "(17006 rows)\n",
            "\n",
            "Time: 1754.218 ms (00:01.754)\n",
            "CPU times: user 73.4 ms, sys: 17.2 ms, total: 90.6 ms\n",
            "Wall time: 9.26 s\n"
          ]
        }
      ],
      "source": [
        "%%time\n",
        "!sudo -u postgres /usr/local/pgsql/bin/psql db < command.txt | tail -3"
      ]
    },
    {
      "cell_type": "markdown",
      "metadata": {
        "id": "EfLqfLg636I7"
      },
      "source": [
        "インデックスを使うことによる効果は表れていますが、それほどでもありません。検索対象の数が増えるともっと顕著な差が現れると思われます。"
      ]
    },
    {
      "cell_type": "markdown",
      "metadata": {
        "id": "MzoDOLhVcJqZ"
      },
      "source": [
        "参考にtitleのみを抽出するクエリを測定してみます。"
      ]
    },
    {
      "cell_type": "code",
      "execution_count": 36,
      "metadata": {
        "colab": {
          "base_uri": "https://localhost:8080/"
        },
        "id": "bDf1Id9XK4Fk",
        "outputId": "d4038943-72a5-416a-95a4-328dcde82eec"
      },
      "outputs": [
        {
          "name": "stdout",
          "output_type": "stream",
          "text": [
            "Overwriting command２.txt\n"
          ]
        }
      ],
      "source": [
        "%%writefile command２.txt\n",
        "set enable_bitmapscan=on;\n",
        "\\timing\n",
        "select title from wiki_jp where body like '%日本語%';"
      ]
    },
    {
      "cell_type": "code",
      "execution_count": 37,
      "metadata": {
        "colab": {
          "base_uri": "https://localhost:8080/"
        },
        "id": "Mz8FuA6LK7iX",
        "outputId": "4fa91450-52f5-405c-87ce-8f348b4a57c9"
      },
      "outputs": [
        {
          "name": "stdout",
          "output_type": "stream",
          "text": [
            "(17006 rows)\n",
            "\n",
            "Time: 1804.455 ms (00:01.804)\n",
            "CPU times: user 80.3 ms, sys: 16.7 ms, total: 96.9 ms\n",
            "Wall time: 9.06 s\n"
          ]
        }
      ],
      "source": [
        "%%time\n",
        "!sudo -u postgres /usr/local/pgsql/bin/psql db < command.txt | tail -3"
      ]
    },
    {
      "cell_type": "markdown",
      "metadata": {
        "id": "Wy0d7eiKH4H5"
      },
      "source": [
        "## DBの停止"
      ]
    },
    {
      "cell_type": "code",
      "execution_count": 32,
      "metadata": {
        "colab": {
          "base_uri": "https://localhost:8080/"
        },
        "id": "g2ovVFGW29Mt",
        "outputId": "9ceb0d9e-597d-4182-f88a-c62aeac0e1bc"
      },
      "outputs": [
        {
          "name": "stdout",
          "output_type": "stream",
          "text": [
            "waiting for server to shut down.... done\n",
            "server stopped\n"
          ]
        }
      ],
      "source": [
        "!sudo -u postgres /usr/local/pgsql/bin/pg_ctl -D /tmp/postgres stop"
      ]
    }
  ],
  "metadata": {
    "colab": {
      "collapsed_sections": [
        "GQ53mxqQFWNP",
        "e3U353jCG9z-",
        "55AM6XT7HDr9"
      ],
      "name": "全文検索_Postgres.ipynb",
      "provenance": []
    },
    "kernelspec": {
      "display_name": "Python 3",
      "name": "python3"
    },
    "language_info": {
      "name": "python"
    },
    "widgets": {
      "application/vnd.jupyter.widget-state+json": {
        "09c7f34e1d124c438705ee1be84e2f65": {
          "model_module": "@jupyter-widgets/controls",
          "model_module_version": "1.5.0",
          "model_name": "ProgressStyleModel",
          "state": {
            "_model_module": "@jupyter-widgets/controls",
            "_model_module_version": "1.5.0",
            "_model_name": "ProgressStyleModel",
            "_view_count": null,
            "_view_module": "@jupyter-widgets/base",
            "_view_module_version": "1.2.0",
            "_view_name": "StyleView",
            "bar_color": null,
            "description_width": ""
          }
        },
        "1823fa8acb6b4184829f23c91a566eb7": {
          "model_module": "@jupyter-widgets/base",
          "model_module_version": "1.2.0",
          "model_name": "LayoutModel",
          "state": {
            "_model_module": "@jupyter-widgets/base",
            "_model_module_version": "1.2.0",
            "_model_name": "LayoutModel",
            "_view_count": null,
            "_view_module": "@jupyter-widgets/base",
            "_view_module_version": "1.2.0",
            "_view_name": "LayoutView",
            "align_content": null,
            "align_items": null,
            "align_self": null,
            "border": null,
            "bottom": null,
            "display": null,
            "flex": null,
            "flex_flow": null,
            "grid_area": null,
            "grid_auto_columns": null,
            "grid_auto_flow": null,
            "grid_auto_rows": null,
            "grid_column": null,
            "grid_gap": null,
            "grid_row": null,
            "grid_template_areas": null,
            "grid_template_columns": null,
            "grid_template_rows": null,
            "height": null,
            "justify_content": null,
            "justify_items": null,
            "left": null,
            "margin": null,
            "max_height": null,
            "max_width": null,
            "min_height": null,
            "min_width": null,
            "object_fit": null,
            "object_position": null,
            "order": null,
            "overflow": null,
            "overflow_x": null,
            "overflow_y": null,
            "padding": null,
            "right": null,
            "top": null,
            "visibility": null,
            "width": null
          }
        },
        "4786e3e3e7214a9fbf7c96c70a9c9e5a": {
          "model_module": "@jupyter-widgets/base",
          "model_module_version": "1.2.0",
          "model_name": "LayoutModel",
          "state": {
            "_model_module": "@jupyter-widgets/base",
            "_model_module_version": "1.2.0",
            "_model_name": "LayoutModel",
            "_view_count": null,
            "_view_module": "@jupyter-widgets/base",
            "_view_module_version": "1.2.0",
            "_view_name": "LayoutView",
            "align_content": null,
            "align_items": null,
            "align_self": null,
            "border": null,
            "bottom": null,
            "display": null,
            "flex": null,
            "flex_flow": null,
            "grid_area": null,
            "grid_auto_columns": null,
            "grid_auto_flow": null,
            "grid_auto_rows": null,
            "grid_column": null,
            "grid_gap": null,
            "grid_row": null,
            "grid_template_areas": null,
            "grid_template_columns": null,
            "grid_template_rows": null,
            "height": null,
            "justify_content": null,
            "justify_items": null,
            "left": null,
            "margin": null,
            "max_height": null,
            "max_width": null,
            "min_height": null,
            "min_width": null,
            "object_fit": null,
            "object_position": null,
            "order": null,
            "overflow": null,
            "overflow_x": null,
            "overflow_y": null,
            "padding": null,
            "right": null,
            "top": null,
            "visibility": null,
            "width": null
          }
        },
        "498fe644d3fb4bce9f27f283ea6bfa85": {
          "model_module": "@jupyter-widgets/controls",
          "model_module_version": "1.5.0",
          "model_name": "DescriptionStyleModel",
          "state": {
            "_model_module": "@jupyter-widgets/controls",
            "_model_module_version": "1.5.0",
            "_model_name": "DescriptionStyleModel",
            "_view_count": null,
            "_view_module": "@jupyter-widgets/base",
            "_view_module_version": "1.2.0",
            "_view_name": "StyleView",
            "description_width": ""
          }
        },
        "5c76c15c34634d2faca9cee9410a1a72": {
          "model_module": "@jupyter-widgets/base",
          "model_module_version": "1.2.0",
          "model_name": "LayoutModel",
          "state": {
            "_model_module": "@jupyter-widgets/base",
            "_model_module_version": "1.2.0",
            "_model_name": "LayoutModel",
            "_view_count": null,
            "_view_module": "@jupyter-widgets/base",
            "_view_module_version": "1.2.0",
            "_view_name": "LayoutView",
            "align_content": null,
            "align_items": null,
            "align_self": null,
            "border": null,
            "bottom": null,
            "display": null,
            "flex": null,
            "flex_flow": null,
            "grid_area": null,
            "grid_auto_columns": null,
            "grid_auto_flow": null,
            "grid_auto_rows": null,
            "grid_column": null,
            "grid_gap": null,
            "grid_row": null,
            "grid_template_areas": null,
            "grid_template_columns": null,
            "grid_template_rows": null,
            "height": null,
            "justify_content": null,
            "justify_items": null,
            "left": null,
            "margin": null,
            "max_height": null,
            "max_width": null,
            "min_height": null,
            "min_width": null,
            "object_fit": null,
            "object_position": null,
            "order": null,
            "overflow": null,
            "overflow_x": null,
            "overflow_y": null,
            "padding": null,
            "right": null,
            "top": null,
            "visibility": null,
            "width": null
          }
        },
        "74473621e4b54212b84247b6bce14895": {
          "model_module": "@jupyter-widgets/controls",
          "model_module_version": "1.5.0",
          "model_name": "FloatProgressModel",
          "state": {
            "_dom_classes": [],
            "_model_module": "@jupyter-widgets/controls",
            "_model_module_version": "1.5.0",
            "_model_name": "FloatProgressModel",
            "_view_count": null,
            "_view_module": "@jupyter-widgets/controls",
            "_view_module_version": "1.5.0",
            "_view_name": "ProgressView",
            "bar_style": "danger",
            "description": "",
            "description_tooltip": null,
            "layout": "IPY_MODEL_cd77118575e14fe7ae354bb373fdfbfb",
            "max": 750000,
            "min": 0,
            "orientation": "horizontal",
            "style": "IPY_MODEL_09c7f34e1d124c438705ee1be84e2f65",
            "value": 750000
          }
        },
        "7482b442f0fe4d669ed7517f8c74978c": {
          "model_module": "@jupyter-widgets/controls",
          "model_module_version": "1.5.0",
          "model_name": "HTMLModel",
          "state": {
            "_dom_classes": [],
            "_model_module": "@jupyter-widgets/controls",
            "_model_module_version": "1.5.0",
            "_model_name": "HTMLModel",
            "_view_count": null,
            "_view_module": "@jupyter-widgets/controls",
            "_view_module_version": "1.5.0",
            "_view_name": "HTMLView",
            "description": "",
            "description_tooltip": null,
            "layout": "IPY_MODEL_1823fa8acb6b4184829f23c91a566eb7",
            "placeholder": "​",
            "style": "IPY_MODEL_bf2bd33fd13e4935a88f5e62f63566cb",
            "value": " 779788/? [09:39&lt;00:00, 2107.66it/s]"
          }
        },
        "903eecdd177f4e7fa85375f12a39ecf4": {
          "model_module": "@jupyter-widgets/controls",
          "model_module_version": "1.5.0",
          "model_name": "HBoxModel",
          "state": {
            "_dom_classes": [],
            "_model_module": "@jupyter-widgets/controls",
            "_model_module_version": "1.5.0",
            "_model_name": "HBoxModel",
            "_view_count": null,
            "_view_module": "@jupyter-widgets/controls",
            "_view_module_version": "1.5.0",
            "_view_name": "HBoxView",
            "box_style": "",
            "children": [
              "IPY_MODEL_e0d595b2ed884fcc879d66a32ed3a32f",
              "IPY_MODEL_74473621e4b54212b84247b6bce14895",
              "IPY_MODEL_7482b442f0fe4d669ed7517f8c74978c"
            ],
            "layout": "IPY_MODEL_5c76c15c34634d2faca9cee9410a1a72"
          }
        },
        "bf2bd33fd13e4935a88f5e62f63566cb": {
          "model_module": "@jupyter-widgets/controls",
          "model_module_version": "1.5.0",
          "model_name": "DescriptionStyleModel",
          "state": {
            "_model_module": "@jupyter-widgets/controls",
            "_model_module_version": "1.5.0",
            "_model_name": "DescriptionStyleModel",
            "_view_count": null,
            "_view_module": "@jupyter-widgets/base",
            "_view_module_version": "1.2.0",
            "_view_name": "StyleView",
            "description_width": ""
          }
        },
        "cd77118575e14fe7ae354bb373fdfbfb": {
          "model_module": "@jupyter-widgets/base",
          "model_module_version": "1.2.0",
          "model_name": "LayoutModel",
          "state": {
            "_model_module": "@jupyter-widgets/base",
            "_model_module_version": "1.2.0",
            "_model_name": "LayoutModel",
            "_view_count": null,
            "_view_module": "@jupyter-widgets/base",
            "_view_module_version": "1.2.0",
            "_view_name": "LayoutView",
            "align_content": null,
            "align_items": null,
            "align_self": null,
            "border": null,
            "bottom": null,
            "display": null,
            "flex": null,
            "flex_flow": null,
            "grid_area": null,
            "grid_auto_columns": null,
            "grid_auto_flow": null,
            "grid_auto_rows": null,
            "grid_column": null,
            "grid_gap": null,
            "grid_row": null,
            "grid_template_areas": null,
            "grid_template_columns": null,
            "grid_template_rows": null,
            "height": null,
            "justify_content": null,
            "justify_items": null,
            "left": null,
            "margin": null,
            "max_height": null,
            "max_width": null,
            "min_height": null,
            "min_width": null,
            "object_fit": null,
            "object_position": null,
            "order": null,
            "overflow": null,
            "overflow_x": null,
            "overflow_y": null,
            "padding": null,
            "right": null,
            "top": null,
            "visibility": null,
            "width": null
          }
        },
        "e0d595b2ed884fcc879d66a32ed3a32f": {
          "model_module": "@jupyter-widgets/controls",
          "model_module_version": "1.5.0",
          "model_name": "HTMLModel",
          "state": {
            "_dom_classes": [],
            "_model_module": "@jupyter-widgets/controls",
            "_model_module_version": "1.5.0",
            "_model_name": "HTMLModel",
            "_view_count": null,
            "_view_module": "@jupyter-widgets/controls",
            "_view_module_version": "1.5.0",
            "_view_name": "HTMLView",
            "description": "",
            "description_tooltip": null,
            "layout": "IPY_MODEL_4786e3e3e7214a9fbf7c96c70a9c9e5a",
            "placeholder": "​",
            "style": "IPY_MODEL_498fe644d3fb4bce9f27f283ea6bfa85",
            "value": ""
          }
        }
      }
    }
  },
  "nbformat": 4,
  "nbformat_minor": 0
}
